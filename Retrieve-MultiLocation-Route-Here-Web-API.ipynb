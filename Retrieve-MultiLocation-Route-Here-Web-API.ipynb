{
 "cells": [
  {
   "cell_type": "markdown",
   "metadata": {},
   "source": [
    "# Retrieve Route for Multiple Locations using Here API"
   ]
  },
  {
   "cell_type": "markdown",
   "metadata": {},
   "source": [
    "## What is an API?\n",
    "*** "
   ]
  },
  {
   "cell_type": "markdown",
   "metadata": {},
   "source": [
    "An **API (Application Programming Interface)** is something that any particular website can design to this thing called an API to give out their data and allow your web application to communicate with that data. Facebook, Twitter, Yelp, and many other services rely and have their own API's.\n",
    "\n",
    "With APIs, applications talk to each other without any user knowledge or intervention.\n",
    "\n",
    "When we want to interact with an API in Python (like accessing web services), we get the **responses** in a form called JSON. "
   ]
  },
  {
   "cell_type": "markdown",
   "metadata": {},
   "source": [
    "## What is JSON?\n",
    "***\n",
    "\n",
    "**JSON (JavaScript Object Notation)** is a compact, text based format for computers\n",
    "to exchange data and is once loaded into Python just like a **dictionary**.\n",
    "\n",
    "JSON data structures map directly to Python data types, which makes this a powerful tool for directly accessing data.\n",
    "\n",
    "This makes JSON an ideal format for transporting data between a client and a server."
   ]
  },
  {
   "cell_type": "markdown",
   "metadata": {},
   "source": [
    "## JSON vs Dictionary\n",
    "***\n",
    "\n",
    "It is apples vs. oranges comparison:\n",
    "\n",
    "- **JSON** is a data format (a string).\n",
    "\n",
    "- **Python dictionary** is a data structure (in-memory object)."
   ]
  },
  {
   "cell_type": "markdown",
   "metadata": {},
   "source": [
    "## Terminologies\n",
    "***\n",
    "- **API Key:** When using any API, normally you'll need to acquire an API Key. This key acts as a form of authentication, which can lead to access control\n",
    "- **Key:** All keys are of string type\n",
    "- **Value:** Values can be either strings, numbers, lists, booleans, or even another object (dictionary)\n",
    "- **URL Request:** This is the URL that you can make a request to the website's API with. \n",
    "- **Response:** Once a request has been made, you'll recieve a JSON response.\n",
    "- **Search Query:** This is the query that is used to get back any information of a particular API"
   ]
  },
  {
   "cell_type": "markdown",
   "metadata": {},
   "source": [
    "# How to Query a JSON API in Python\n",
    "***\n",
    "\n",
    "### Objective\n",
    "1. Learn how to communicate with an API in your Python application\n",
    "2. Learn how to get data out of your JSON format.\n",
    "3. Learn how to query multiple API calls\n",
    "4. Learn how to convert our newly acquired JSON objects into a Pandas DataFrame\n",
    "\n",
    "### Here are the 4 Simple Steps:\n",
    "\n",
    "1. Import Library Dependencies\n",
    "2. Create Query URL (which contains the url, apikey, and query filters)\n",
    "3. Perform a Request Call & Convert to JSON\n",
    "4. Extract Data from JSON Response (Query it)"
   ]
  },
  {
   "cell_type": "markdown",
   "metadata": {},
   "source": [
    "<img src='https://appstickers-cdn.appadvice.com/1152768104/819323113/9a735dc3f9eee3f2349c22e0e00764d9-0.png'>\n",
    "\n",
    "# TASK\n",
    "***\n",
    "Get weather information from the city of **Los Angeles.**\n",
    "\n",
    "## Step 0. Create an API Key\n",
    "\n",
    "\n",
    "It is very simple:\n",
    "1. Just register on the Sign up page https://home.openweathermap.org/users/sign_up\n",
    "2. Get your unique API key on your personal page"
   ]
  },
  {
   "cell_type": "code",
   "execution_count": 20,
   "metadata": {},
   "outputs": [],
   "source": [
    "__author__ = \"Christopher Himmel\"\n",
    "__copyright__ = \"Copyright 2019, Deeper Side Of Learning\"\n",
    "__email__ = \"chris@deepersideoflearning.com\"\n",
    "\n",
    "## Step 1. Import Library Dependencies\n",
    "# Dependencies\n",
    "import requests as req\n",
    "import json\n",
    "import pandas as pd"
   ]
  },
  {
   "cell_type": "markdown",
   "metadata": {},
   "source": [
    "## Step 2. Create Query URL\n",
    "\n",
    "**Query URL** is used to get our information from the API call.\n",
    "\n",
    "Once you decided what search queries to look for, your **complete Query URL** should look like this: \n",
    "\n",
    "https://wse.api.here.com/2/\n",
    "/findpickups.json\n",
    "?mode=fastest;car;traffic:disabled\n",
    "&start=waypoint0;50.115620,8.631210\n",
    "&departure=2016-10-14T07:30:00+02:00\n",
    "&vehicleCost=0.29\n",
    "&driverCost=20\n",
    "&maxDetour=60\n",
    "&restTimes=disabled\n",
    "&end=waypoint3;50.132540,8.649280\n",
    "&destination0=waypoint1;50.122540,8.631070;pickup:LOAD2\n",
    "&destination1=waypoint2;50.128920,8.629830;drop:LOAD2,value:200\n",
    "&app_id={YOUR_APP_ID}\n",
    "&app_code={YOUR_APP_CODE}\n",
    "\n",
    "**IMPORTANT NOTE:** \n",
    "- The \"**?**\" syntax is used in the begginning of our query string so we can start building a filterized version of our data\n",
    "- The \"**&**\" syntax is used to perform our different types of queries, in this case one for city and units"
   ]
  },
  {
   "cell_type": "markdown",
   "metadata": {},
   "source": [
    "## Inputs"
   ]
  },
  {
   "cell_type": "code",
   "execution_count": 115,
   "metadata": {},
   "outputs": [
    {
     "name": "stdout",
     "output_type": "stream",
     "text": [
      "['pickup:LOAD1', 'drop:LOAD1,value:200', 'pickup:LOAD2', 'drop:LOAD2,value:200']\n"
     ]
    }
   ],
   "source": [
    "starting_location = [50.115620, 8.631210]\n",
    "end_waypoint = [50.132540, 8.649280]\n",
    "\n",
    "destinations = [[50.122540, 8.631070],[50.128920, 8.629830],[50.123540, 8.631070],[50.124920, 8.629830]]\n",
    "\n",
    "drops=[]\n",
    "start='pickup'\n",
    "load=1\n",
    "value_string=''\n",
    "for idx, destination in enumerate(destinations):\n",
    "    drops.append(start + \":LOAD\" + str(load) + value_string)\n",
    "    if start=='pickup':\n",
    "        start='drop'\n",
    "        value_string=',value:200'\n",
    "    else:\n",
    "        start='pickup'\n",
    "        value_string=''\n",
    "        load+=1\n",
    "\n",
    "print(drops)\n",
    "\n",
    "#drops = ['pickup:LOAD2','drop:LOAD2,value:200','pickup:LOAD3','drop:LOAD3,value:200']\n",
    "\n",
    "count = len(drops)"
   ]
  },
  {
   "cell_type": "markdown",
   "metadata": {},
   "source": [
    "## Miscellaneous settings"
   ]
  },
  {
   "cell_type": "code",
   "execution_count": 116,
   "metadata": {},
   "outputs": [],
   "source": [
    "departure_time = \"2016-10-14T07:30:00+02:00\"\n",
    "vehicle_cost = 0.29\n",
    "driver_cost = 20\n",
    "max_detour = 60\n",
    "rest_times = \"disabled\""
   ]
  },
  {
   "cell_type": "code",
   "execution_count": 117,
   "metadata": {},
   "outputs": [
    {
     "name": "stdout",
     "output_type": "stream",
     "text": [
      "0\n",
      "1\n",
      "2\n",
      "3\n"
     ]
    },
    {
     "data": {
      "text/plain": [
       "'https://wse.api.here.com/2//findpickups.json?mode=fastest;car;traffic:disabled&start=waypoint0;50.11562,8.63121&departure=2016-10-14T07:30:00+02:00&vehicleCost=0.29&driverCost=20&maxDetour=60&restTimes=disabled&end=waypoint5;50.13254,8.64928&destination0=waypoint1;50.12254,8.63107;pickup:LOAD1&destination1=waypoint2;50.12892,8.62983;drop:LOAD1,value:200&destination2=waypoint3;50.12354,8.63107;pickup:LOAD2&destination3=waypoint4;50.12492,8.62983;drop:LOAD2,value:200&app_id=32SZZi8UYe8C7VZcKWXy&app_code=wLWAa2tEmxgDRx02Jykwzw'"
      ]
     },
     "execution_count": 117,
     "metadata": {},
     "output_type": "execute_result"
    }
   ],
   "source": [
    "# A. Get our base URL for the Open Weather API\n",
    "base_url = \"https://wse.api.here.com/2//findpickups.json?mode=fastest;car;traffic:disabled\"\n",
    "\n",
    "# B1. Get our APP ID \n",
    "app_id = \"32SZZi8UYe8C7VZcKWXy\"\n",
    "# B2. Get our APP Code \n",
    "app_code = \"wLWAa2tEmxgDRx02Jykwzw\"\n",
    "\n",
    "# C. Get our query (search filter)\n",
    "destination_string=[]\n",
    "\n",
    "start_waypoint_string = \"&start=waypoint0;\" + str(starting_location[0]) + \",\" + str(starting_location[1])\n",
    "departure_string = \"&departure=\" + departure_time\n",
    "vehicle_cost_string = \"&vehicleCost=\" + str(vehicle_cost)\n",
    "driver_cost_string = \"&driverCost=\" + str(driver_cost)\n",
    "max_detour_string = \"&maxDetour=\" + str(max_detour)\n",
    "rest_times_string = \"&restTimes=\" + rest_times\n",
    "end_waypoint_string = \"&end=waypoint\" + str(count+1) + \";\" + str(end_waypoint[0]) + \",\" + str(end_waypoint[1])\n",
    "\n",
    "for idx, destination in enumerate(destinations):\n",
    "    destination_string.append(\"&destination\" + str(idx) + \"=waypoint\" + str(idx+1) + \\\n",
    "                              \";\" + str(destination[0]) + \",\" + str(destination[1]) + \";\" + drops[idx])\n",
    "    print(idx)\n",
    "    \n",
    "# D. Combine everything into our final Query URL\n",
    "query_url = base_url + start_waypoint_string + departure_string + vehicle_cost_string + driver_cost_string + \\\n",
    "    max_detour_string + rest_times_string + end_waypoint_string + \\\n",
    "    destination_string[0] + destination_string[1] + destination_string[2] + destination_string[3] + \"&app_id=\" + app_id + \"&app_code=\" + app_code\n",
    "\n",
    "# Display our final query url\n",
    "query_url"
   ]
  },
  {
   "cell_type": "markdown",
   "metadata": {},
   "source": [
    "## Step 3. Perform a Request Call & Convert to JSON\n"
   ]
  },
  {
   "cell_type": "markdown",
   "metadata": {},
   "source": [
    "**Step 1. Perform a Request Call**\n",
    "\n",
    "Using our **req.get()** method, we'll get back a response from our Weather Map API with the filtered queries. "
   ]
  },
  {
   "cell_type": "code",
   "execution_count": 118,
   "metadata": {},
   "outputs": [
    {
     "data": {
      "text/plain": [
       "<Response [200]>"
      ]
     },
     "execution_count": 118,
     "metadata": {},
     "output_type": "execute_result"
    }
   ],
   "source": [
    "# Perform a Request Call on our search query\n",
    "response = req.get(query_url)\n",
    "response"
   ]
  },
  {
   "cell_type": "markdown",
   "metadata": {},
   "source": [
    "**Step 2. Convert to JSON** \n",
    "\n",
    "Then just call the **.json()** at the end to convert it into a JSON format (aka dictionary)"
   ]
  },
  {
   "cell_type": "code",
   "execution_count": 119,
   "metadata": {
    "scrolled": true
   },
   "outputs": [
    {
     "data": {
      "text/plain": [
       "{'results': [{'waypoints': [{'id': 'waypoint0',\n",
       "     'lat': 50.11562,\n",
       "     'lng': 8.63121,\n",
       "     'sequence': 0,\n",
       "     'estimatedArrival': None,\n",
       "     'estimatedDeparture': '2019-02-24T00:25:59Z',\n",
       "     'fulfilledConstraints': []},\n",
       "    {'id': 'waypoint1',\n",
       "     'lat': 50.12254,\n",
       "     'lng': 8.63107,\n",
       "     'sequence': 1,\n",
       "     'estimatedArrival': '2019-02-24T00:29:06Z',\n",
       "     'estimatedDeparture': '2019-02-24T00:29:06Z',\n",
       "     'fulfilledConstraints': ['pickup:LOAD1,value:200,load:0 (destination0 -> destination1)']},\n",
       "    {'id': 'waypoint3',\n",
       "     'lat': 50.12354,\n",
       "     'lng': 8.63107,\n",
       "     'sequence': 2,\n",
       "     'estimatedArrival': '2019-02-24T00:29:20Z',\n",
       "     'estimatedDeparture': '2019-02-24T00:29:20Z',\n",
       "     'fulfilledConstraints': ['pickup:LOAD2,value:200,load:0 (destination2 -> destination3)']},\n",
       "    {'id': 'waypoint4',\n",
       "     'lat': 50.12492,\n",
       "     'lng': 8.62983,\n",
       "     'sequence': 3,\n",
       "     'estimatedArrival': '2019-02-24T00:30:20Z',\n",
       "     'estimatedDeparture': '2019-02-24T00:30:20Z',\n",
       "     'fulfilledConstraints': ['drop:LOAD2,value:200,load:0 (destination2 -> destination3)']},\n",
       "    {'id': 'waypoint2',\n",
       "     'lat': 50.12892,\n",
       "     'lng': 8.62983,\n",
       "     'sequence': 4,\n",
       "     'estimatedArrival': '2019-02-24T00:31:27Z',\n",
       "     'estimatedDeparture': '2019-02-24T00:31:27Z',\n",
       "     'fulfilledConstraints': ['drop:LOAD1,value:200,load:0 (destination0 -> destination1)']},\n",
       "    {'id': 'waypoint5',\n",
       "     'lat': 50.13254,\n",
       "     'lng': 8.64928,\n",
       "     'sequence': 5,\n",
       "     'estimatedArrival': '2019-02-24T00:35:15Z',\n",
       "     'estimatedDeparture': None,\n",
       "     'fulfilledConstraints': []}],\n",
       "   'distance': '6310',\n",
       "   'time': '556',\n",
       "   'interconnections': [{'fromWaypoint': 'waypoint0',\n",
       "     'toWaypoint': 'waypoint1',\n",
       "     'distance': 1707.0,\n",
       "     'time': 187.0,\n",
       "     'rest': 0.0,\n",
       "     'waiting': 0.0},\n",
       "    {'fromWaypoint': 'waypoint1',\n",
       "     'toWaypoint': 'waypoint3',\n",
       "     'distance': 150.0,\n",
       "     'time': 14.0,\n",
       "     'rest': 0.0,\n",
       "     'waiting': 0.0},\n",
       "    {'fromWaypoint': 'waypoint3',\n",
       "     'toWaypoint': 'waypoint4',\n",
       "     'distance': 557.0,\n",
       "     'time': 60.0,\n",
       "     'rest': 0.0,\n",
       "     'waiting': 0.0},\n",
       "    {'fromWaypoint': 'waypoint4',\n",
       "     'toWaypoint': 'waypoint2',\n",
       "     'distance': 479.0,\n",
       "     'time': 67.0,\n",
       "     'rest': 0.0,\n",
       "     'waiting': 0.0},\n",
       "    {'fromWaypoint': 'waypoint2',\n",
       "     'toWaypoint': 'waypoint5',\n",
       "     'distance': 3417.0,\n",
       "     'time': 228.0,\n",
       "     'rest': 0.0,\n",
       "     'waiting': 0.0}],\n",
       "   'description': 'Targeted best solution: optimal; without traffic',\n",
       "   'timeBreakdown': {'driving': 556, 'service': 0, 'rest': 0, 'waiting': 0}}],\n",
       " 'errors': [],\n",
       " 'processingTimeDesc': '186ms',\n",
       " 'responseCode': '200',\n",
       " 'warnings': None,\n",
       " 'requestId': None}"
      ]
     },
     "execution_count": 119,
     "metadata": {},
     "output_type": "execute_result"
    }
   ],
   "source": [
    "response = response.json()\n",
    "response"
   ]
  },
  {
   "cell_type": "markdown",
   "metadata": {},
   "source": [
    "**Extra: json.dumps()**"
   ]
  },
  {
   "cell_type": "code",
   "execution_count": 120,
   "metadata": {
    "scrolled": true
   },
   "outputs": [
    {
     "name": "stdout",
     "output_type": "stream",
     "text": [
      "{\n",
      "    \"errors\": [],\n",
      "    \"processingTimeDesc\": \"186ms\",\n",
      "    \"requestId\": null,\n",
      "    \"responseCode\": \"200\",\n",
      "    \"results\": [\n",
      "        {\n",
      "            \"description\": \"Targeted best solution: optimal; without traffic\",\n",
      "            \"distance\": \"6310\",\n",
      "            \"interconnections\": [\n",
      "                {\n",
      "                    \"distance\": 1707.0,\n",
      "                    \"fromWaypoint\": \"waypoint0\",\n",
      "                    \"rest\": 0.0,\n",
      "                    \"time\": 187.0,\n",
      "                    \"toWaypoint\": \"waypoint1\",\n",
      "                    \"waiting\": 0.0\n",
      "                },\n",
      "                {\n",
      "                    \"distance\": 150.0,\n",
      "                    \"fromWaypoint\": \"waypoint1\",\n",
      "                    \"rest\": 0.0,\n",
      "                    \"time\": 14.0,\n",
      "                    \"toWaypoint\": \"waypoint3\",\n",
      "                    \"waiting\": 0.0\n",
      "                },\n",
      "                {\n",
      "                    \"distance\": 557.0,\n",
      "                    \"fromWaypoint\": \"waypoint3\",\n",
      "                    \"rest\": 0.0,\n",
      "                    \"time\": 60.0,\n",
      "                    \"toWaypoint\": \"waypoint4\",\n",
      "                    \"waiting\": 0.0\n",
      "                },\n",
      "                {\n",
      "                    \"distance\": 479.0,\n",
      "                    \"fromWaypoint\": \"waypoint4\",\n",
      "                    \"rest\": 0.0,\n",
      "                    \"time\": 67.0,\n",
      "                    \"toWaypoint\": \"waypoint2\",\n",
      "                    \"waiting\": 0.0\n",
      "                },\n",
      "                {\n",
      "                    \"distance\": 3417.0,\n",
      "                    \"fromWaypoint\": \"waypoint2\",\n",
      "                    \"rest\": 0.0,\n",
      "                    \"time\": 228.0,\n",
      "                    \"toWaypoint\": \"waypoint5\",\n",
      "                    \"waiting\": 0.0\n",
      "                }\n",
      "            ],\n",
      "            \"time\": \"556\",\n",
      "            \"timeBreakdown\": {\n",
      "                \"driving\": 556,\n",
      "                \"rest\": 0,\n",
      "                \"service\": 0,\n",
      "                \"waiting\": 0\n",
      "            },\n",
      "            \"waypoints\": [\n",
      "                {\n",
      "                    \"estimatedArrival\": null,\n",
      "                    \"estimatedDeparture\": \"2019-02-24T00:25:59Z\",\n",
      "                    \"fulfilledConstraints\": [],\n",
      "                    \"id\": \"waypoint0\",\n",
      "                    \"lat\": 50.11562,\n",
      "                    \"lng\": 8.63121,\n",
      "                    \"sequence\": 0\n",
      "                },\n",
      "                {\n",
      "                    \"estimatedArrival\": \"2019-02-24T00:29:06Z\",\n",
      "                    \"estimatedDeparture\": \"2019-02-24T00:29:06Z\",\n",
      "                    \"fulfilledConstraints\": [\n",
      "                        \"pickup:LOAD1,value:200,load:0 (destination0 -> destination1)\"\n",
      "                    ],\n",
      "                    \"id\": \"waypoint1\",\n",
      "                    \"lat\": 50.12254,\n",
      "                    \"lng\": 8.63107,\n",
      "                    \"sequence\": 1\n",
      "                },\n",
      "                {\n",
      "                    \"estimatedArrival\": \"2019-02-24T00:29:20Z\",\n",
      "                    \"estimatedDeparture\": \"2019-02-24T00:29:20Z\",\n",
      "                    \"fulfilledConstraints\": [\n",
      "                        \"pickup:LOAD2,value:200,load:0 (destination2 -> destination3)\"\n",
      "                    ],\n",
      "                    \"id\": \"waypoint3\",\n",
      "                    \"lat\": 50.12354,\n",
      "                    \"lng\": 8.63107,\n",
      "                    \"sequence\": 2\n",
      "                },\n",
      "                {\n",
      "                    \"estimatedArrival\": \"2019-02-24T00:30:20Z\",\n",
      "                    \"estimatedDeparture\": \"2019-02-24T00:30:20Z\",\n",
      "                    \"fulfilledConstraints\": [\n",
      "                        \"drop:LOAD2,value:200,load:0 (destination2 -> destination3)\"\n",
      "                    ],\n",
      "                    \"id\": \"waypoint4\",\n",
      "                    \"lat\": 50.12492,\n",
      "                    \"lng\": 8.62983,\n",
      "                    \"sequence\": 3\n",
      "                },\n",
      "                {\n",
      "                    \"estimatedArrival\": \"2019-02-24T00:31:27Z\",\n",
      "                    \"estimatedDeparture\": \"2019-02-24T00:31:27Z\",\n",
      "                    \"fulfilledConstraints\": [\n",
      "                        \"drop:LOAD1,value:200,load:0 (destination0 -> destination1)\"\n",
      "                    ],\n",
      "                    \"id\": \"waypoint2\",\n",
      "                    \"lat\": 50.12892,\n",
      "                    \"lng\": 8.62983,\n",
      "                    \"sequence\": 4\n",
      "                },\n",
      "                {\n",
      "                    \"estimatedArrival\": \"2019-02-24T00:35:15Z\",\n",
      "                    \"estimatedDeparture\": null,\n",
      "                    \"fulfilledConstraints\": [],\n",
      "                    \"id\": \"waypoint5\",\n",
      "                    \"lat\": 50.13254,\n",
      "                    \"lng\": 8.64928,\n",
      "                    \"sequence\": 5\n",
      "                }\n",
      "            ]\n",
      "        }\n",
      "    ],\n",
      "    \"warnings\": null\n",
      "}\n"
     ]
    }
   ],
   "source": [
    "# Using json.dumps() allows you to easily read the response output\n",
    "print(json.dumps(response, indent=4, sort_keys=True))"
   ]
  },
  {
   "cell_type": "markdown",
   "metadata": {},
   "source": [
    "## Step 4. Extract Data from JSON Response\n",
    "Finally, we're able to access our JSON object and extract information from it just as if it was a **Python Dictionary**.\n",
    "\n",
    "Remember, a JSON object contains a **key-value pair**."
   ]
  },
  {
   "cell_type": "code",
   "execution_count": 122,
   "metadata": {},
   "outputs": [],
   "source": [
    "# Extract the data from our JSON Response\n",
    "results = response['results']\n",
    "#print (results[0]['waypoints'][0])\n",
    "#print (results[0]['waypoints'][1])\n"
   ]
  },
  {
   "cell_type": "markdown",
   "metadata": {},
   "source": [
    "## Extract Waypoints"
   ]
  },
  {
   "cell_type": "code",
   "execution_count": 123,
   "metadata": {},
   "outputs": [],
   "source": [
    "sequences = []\n",
    "waypoint_names = []\n",
    "latitudes = []\n",
    "longitudes = []\n",
    "estimated_arrivals = []\n",
    "estimated_departures = []\n",
    "\n",
    "for waypoint in results[0]['waypoints']:\n",
    "    sequences.append(waypoint['sequence'])\n",
    "    waypoint_names.append(waypoint['id'])\n",
    "    latitudes.append(waypoint['lat'])\n",
    "    longitudes.append(waypoint['lng'])\n",
    "    estimated_arrivals.append(waypoint['estimatedArrival'])\n",
    "    estimated_departures.append(waypoint['estimatedDeparture'])"
   ]
  }
 ],
 "metadata": {
  "kernelspec": {
   "display_name": "Python 3",
   "language": "python",
   "name": "python3"
  },
  "language_info": {
   "codemirror_mode": {
    "name": "ipython",
    "version": 3
   },
   "file_extension": ".py",
   "mimetype": "text/x-python",
   "name": "python",
   "nbconvert_exporter": "python",
   "pygments_lexer": "ipython3",
   "version": "3.7.0"
  }
 },
 "nbformat": 4,
 "nbformat_minor": 2
}
